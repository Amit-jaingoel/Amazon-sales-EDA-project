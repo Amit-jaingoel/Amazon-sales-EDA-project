{
  "nbformat": 4,
  "nbformat_minor": 0,
  "metadata": {
    "colab": {
      "provenance": [],
      "authorship_tag": "ABX9TyPxpBi9SOoiUg0MS7k2sNXF",
      "include_colab_link": true
    },
    "kernelspec": {
      "name": "python3",
      "display_name": "Python 3"
    },
    "language_info": {
      "name": "python"
    }
  },
  "cells": [
    {
      "cell_type": "markdown",
      "metadata": {
        "id": "view-in-github",
        "colab_type": "text"
      },
      "source": [
        "<a href=\"https://colab.research.google.com/github/Amit-jaingoel/Amazon-sales-EDA-project/blob/main/Amazon_sales_Exploratory_Data_Analysis(EDA)ipynb.ipynb\" target=\"_parent\"><img src=\"https://colab.research.google.com/assets/colab-badge.svg\" alt=\"Open In Colab\"/></a>"
      ]
    },
    {
      "cell_type": "markdown",
      "metadata": {
        "id": "vncDsAP0Gaoa"
      },
      "source": [
        "# **Project Name**    - Amazon sales Exploratory Data Analysis(EDA)\n",
        "\n",
        "\n",
        "---\n",
        "\n",
        "\n",
        "\n"
      ]
    },
    {
      "cell_type": "markdown",
      "metadata": {
        "id": "FJNUwmbgGyua"
      },
      "source": [
        "# **Project Summary -**\n",
        "\n",
        "The provided dataset contains detailed information on Amazon sales transactions, including order ID, date, status, fulfillment method, sales channel, product category, size, quantity, amount, and shipping details. The objective of this project is to analyze the data comprehensively and extract actionable insights to support business decision-making.\n",
        "\n",
        "Key objectives include understanding overall sales performance, trends, and patterns over time, analyzing product distribution to identify popular items, investigating the effectiveness of various fulfillment methods, segmenting customers based on buying behavior and location, and exploring geographical sales distribution. The goal is to provide actionable insights and recommendations to optimize sales strategies, improve inventory management, and enhance customer service.\n",
        "\n",
        "Deliverables will consist of a comprehensive analysis report summarizing key findings, visualizations illustrating different aspects of the data analysis, and insights on product preferences, customer behavior, and geographical sales distribution. Recommendations for improving sales strategies, inventory management, and customer service will also be included.\n",
        "\n",
        "The expected outcome is to gain valuable insights that can be leveraged to optimize business operations, enhance customer experience, and drive revenue growth. The analysis will provide actionable recommendations tailored to the specific needs and challenges of the business.\n",
        "\n",
        "\n",
        "\n",
        "\n",
        "\n",
        "\n"
      ]
    },
    {
      "cell_type": "markdown",
      "metadata": {
        "id": "PH-0ReGfmX4f"
      },
      "source": [
        "#### **Define Your Business Objective?**"
      ]
    },
    {
      "cell_type": "markdown",
      "source": [
        "The primary business objective of analyzing the Amazon sales report is to leverage data-driven insights to optimize business operations, enhance customer satisfaction, and drive revenue growth. By comprehensively analyzing sales performance, product distribution, fulfillment effectiveness, customer segmentation, and geographical sales distribution, the goal is to identify actionable strategies that improve sales tactics, streamline inventory management, and elevate customer service quality. Ultimately, this analysis aims to provide recommendations that address the specific needs and challenges of the business, thereby fostering a more efficient, customer-centric, and profitable operation."
      ],
      "metadata": {
        "id": "-GLuJZecxouP"
      }
    },
    {
      "cell_type": "markdown",
      "metadata": {
        "id": "O_i_v8NEhb9l"
      },
      "source": [
        "# ***Let's Begin !***"
      ]
    },
    {
      "cell_type": "markdown",
      "metadata": {
        "id": "Y3lxredqlCYt"
      },
      "source": [
        "### Import Libraries"
      ]
    },
    {
      "cell_type": "code",
      "source": [
        "# Import Libraries\n",
        "import numpy as np\n",
        "import pandas as pd\n",
        "import matplotlib.pyplot as plt\n",
        "import seaborn as sns"
      ],
      "metadata": {
        "id": "BeMuFohNVoqL"
      },
      "execution_count": 1,
      "outputs": []
    },
    {
      "cell_type": "markdown",
      "metadata": {
        "id": "3RnN4peoiCZX"
      },
      "source": [
        "### Dataset Loading"
      ]
    },
    {
      "cell_type": "code",
      "execution_count": 2,
      "metadata": {
        "id": "SBvXGFtMQmrD"
      },
      "outputs": [],
      "source": [
        "# Load Dataset\n",
        "from google.colab import drive"
      ]
    },
    {
      "cell_type": "code",
      "source": [
        "drive.mount('/content/drive')"
      ],
      "metadata": {
        "colab": {
          "base_uri": "https://localhost:8080/"
        },
        "id": "-8L4R5H1UjLM",
        "outputId": "4796173e-ca0d-489e-a1fc-9a7fc5f64e1f"
      },
      "execution_count": 3,
      "outputs": [
        {
          "output_type": "stream",
          "name": "stdout",
          "text": [
            "Mounted at /content/drive\n"
          ]
        }
      ]
    },
    {
      "cell_type": "markdown",
      "metadata": {
        "id": "x71ZqKXriCWQ"
      },
      "source": [
        "### Dataset First View"
      ]
    },
    {
      "cell_type": "code",
      "source": [
        "# Dataset First Look\n",
        "df = pd.read_csv(\"/content/drive/MyDrive/Amazon Sale Report.csv\")\n",
        "df"
      ],
      "metadata": {
        "colab": {
          "base_uri": "https://localhost:8080/",
          "height": 825
        },
        "id": "lMvN0zVQUq3A",
        "outputId": "84af5823-7267-4d54-d824-a1d5e66df234"
      },
      "execution_count": 4,
      "outputs": [
        {
          "output_type": "execute_result",
          "data": {
            "text/plain": [
              "         index             Order ID      Date                        Status  \\\n",
              "0            0  405-8078784-5731545  04-30-22                     Cancelled   \n",
              "1            1  171-9198151-1101146  04-30-22  Shipped - Delivered to Buyer   \n",
              "2            2  404-0687676-7273146  04-30-22                       Shipped   \n",
              "3            3  403-9615377-8133951  04-30-22                     Cancelled   \n",
              "4            4  407-1069790-7240320  04-30-22                       Shipped   \n",
              "...        ...                  ...       ...                           ...   \n",
              "128971  128970  406-6001380-7673107  05-31-22                       Shipped   \n",
              "128972  128971  402-9551604-7544318  05-31-22                       Shipped   \n",
              "128973  128972  407-9547469-3152358  05-31-22                       Shipped   \n",
              "128974  128973  402-6184140-0545956  05-31-22                       Shipped   \n",
              "128975  128974  408-7436540-8728312  05-31-22                       Shipped   \n",
              "\n",
              "       Fulfilment Sales Channel ship-service-level  Category Size  \\\n",
              "0        Merchant     Amazon.in           Standard   T-shirt    S   \n",
              "1        Merchant     Amazon.in           Standard     Shirt  3XL   \n",
              "2          Amazon     Amazon.in          Expedited     Shirt   XL   \n",
              "3        Merchant     Amazon.in           Standard   Blazzer    L   \n",
              "4          Amazon     Amazon.in          Expedited  Trousers  3XL   \n",
              "...           ...           ...                ...       ...  ...   \n",
              "128971     Amazon     Amazon.in          Expedited     Shirt   XL   \n",
              "128972     Amazon     Amazon.in          Expedited   T-shirt    M   \n",
              "128973     Amazon     Amazon.in          Expedited   Blazzer  XXL   \n",
              "128974     Amazon     Amazon.in          Expedited   T-shirt   XS   \n",
              "128975     Amazon     Amazon.in          Expedited   T-shirt    S   \n",
              "\n",
              "       Courier Status  ...  currency   Amount    ship-city    ship-state  \\\n",
              "0          On the Way  ...       INR   647.62       MUMBAI   MAHARASHTRA   \n",
              "1             Shipped  ...       INR   406.00    BENGALURU     KARNATAKA   \n",
              "2             Shipped  ...       INR   329.00  NAVI MUMBAI   MAHARASHTRA   \n",
              "3          On the Way  ...       INR   753.33   PUDUCHERRY    PUDUCHERRY   \n",
              "4             Shipped  ...       INR   574.00      CHENNAI    TAMIL NADU   \n",
              "...               ...  ...       ...      ...          ...           ...   \n",
              "128971        Shipped  ...       INR   517.00    HYDERABAD     TELANGANA   \n",
              "128972        Shipped  ...       INR   999.00     GURUGRAM       HARYANA   \n",
              "128973        Shipped  ...       INR   690.00    HYDERABAD     TELANGANA   \n",
              "128974        Shipped  ...       INR  1199.00        Halol       Gujarat   \n",
              "128975        Shipped  ...       INR   696.00       Raipur  CHHATTISGARH   \n",
              "\n",
              "       ship-postal-code  ship-country    B2B  fulfilled-by New  PendingS  \n",
              "0              400081.0            IN  False     Easy Ship NaN       NaN  \n",
              "1              560085.0            IN  False     Easy Ship NaN       NaN  \n",
              "2              410210.0            IN   True           NaN NaN       NaN  \n",
              "3              605008.0            IN  False     Easy Ship NaN       NaN  \n",
              "4              600073.0            IN  False           NaN NaN       NaN  \n",
              "...                 ...           ...    ...           ...  ..       ...  \n",
              "128971         500013.0            IN  False           NaN NaN       NaN  \n",
              "128972         122004.0            IN  False           NaN NaN       NaN  \n",
              "128973         500049.0            IN  False           NaN NaN       NaN  \n",
              "128974         389350.0            IN  False           NaN NaN       NaN  \n",
              "128975         492014.0            IN  False           NaN NaN       NaN  \n",
              "\n",
              "[128976 rows x 21 columns]"
            ],
            "text/html": [
              "\n",
              "  <div id=\"df-4c1d55c0-7639-41d9-9f88-4bd8d3e0e541\" class=\"colab-df-container\">\n",
              "    <div>\n",
              "<style scoped>\n",
              "    .dataframe tbody tr th:only-of-type {\n",
              "        vertical-align: middle;\n",
              "    }\n",
              "\n",
              "    .dataframe tbody tr th {\n",
              "        vertical-align: top;\n",
              "    }\n",
              "\n",
              "    .dataframe thead th {\n",
              "        text-align: right;\n",
              "    }\n",
              "</style>\n",
              "<table border=\"1\" class=\"dataframe\">\n",
              "  <thead>\n",
              "    <tr style=\"text-align: right;\">\n",
              "      <th></th>\n",
              "      <th>index</th>\n",
              "      <th>Order ID</th>\n",
              "      <th>Date</th>\n",
              "      <th>Status</th>\n",
              "      <th>Fulfilment</th>\n",
              "      <th>Sales Channel</th>\n",
              "      <th>ship-service-level</th>\n",
              "      <th>Category</th>\n",
              "      <th>Size</th>\n",
              "      <th>Courier Status</th>\n",
              "      <th>...</th>\n",
              "      <th>currency</th>\n",
              "      <th>Amount</th>\n",
              "      <th>ship-city</th>\n",
              "      <th>ship-state</th>\n",
              "      <th>ship-postal-code</th>\n",
              "      <th>ship-country</th>\n",
              "      <th>B2B</th>\n",
              "      <th>fulfilled-by</th>\n",
              "      <th>New</th>\n",
              "      <th>PendingS</th>\n",
              "    </tr>\n",
              "  </thead>\n",
              "  <tbody>\n",
              "    <tr>\n",
              "      <th>0</th>\n",
              "      <td>0</td>\n",
              "      <td>405-8078784-5731545</td>\n",
              "      <td>04-30-22</td>\n",
              "      <td>Cancelled</td>\n",
              "      <td>Merchant</td>\n",
              "      <td>Amazon.in</td>\n",
              "      <td>Standard</td>\n",
              "      <td>T-shirt</td>\n",
              "      <td>S</td>\n",
              "      <td>On the Way</td>\n",
              "      <td>...</td>\n",
              "      <td>INR</td>\n",
              "      <td>647.62</td>\n",
              "      <td>MUMBAI</td>\n",
              "      <td>MAHARASHTRA</td>\n",
              "      <td>400081.0</td>\n",
              "      <td>IN</td>\n",
              "      <td>False</td>\n",
              "      <td>Easy Ship</td>\n",
              "      <td>NaN</td>\n",
              "      <td>NaN</td>\n",
              "    </tr>\n",
              "    <tr>\n",
              "      <th>1</th>\n",
              "      <td>1</td>\n",
              "      <td>171-9198151-1101146</td>\n",
              "      <td>04-30-22</td>\n",
              "      <td>Shipped - Delivered to Buyer</td>\n",
              "      <td>Merchant</td>\n",
              "      <td>Amazon.in</td>\n",
              "      <td>Standard</td>\n",
              "      <td>Shirt</td>\n",
              "      <td>3XL</td>\n",
              "      <td>Shipped</td>\n",
              "      <td>...</td>\n",
              "      <td>INR</td>\n",
              "      <td>406.00</td>\n",
              "      <td>BENGALURU</td>\n",
              "      <td>KARNATAKA</td>\n",
              "      <td>560085.0</td>\n",
              "      <td>IN</td>\n",
              "      <td>False</td>\n",
              "      <td>Easy Ship</td>\n",
              "      <td>NaN</td>\n",
              "      <td>NaN</td>\n",
              "    </tr>\n",
              "    <tr>\n",
              "      <th>2</th>\n",
              "      <td>2</td>\n",
              "      <td>404-0687676-7273146</td>\n",
              "      <td>04-30-22</td>\n",
              "      <td>Shipped</td>\n",
              "      <td>Amazon</td>\n",
              "      <td>Amazon.in</td>\n",
              "      <td>Expedited</td>\n",
              "      <td>Shirt</td>\n",
              "      <td>XL</td>\n",
              "      <td>Shipped</td>\n",
              "      <td>...</td>\n",
              "      <td>INR</td>\n",
              "      <td>329.00</td>\n",
              "      <td>NAVI MUMBAI</td>\n",
              "      <td>MAHARASHTRA</td>\n",
              "      <td>410210.0</td>\n",
              "      <td>IN</td>\n",
              "      <td>True</td>\n",
              "      <td>NaN</td>\n",
              "      <td>NaN</td>\n",
              "      <td>NaN</td>\n",
              "    </tr>\n",
              "    <tr>\n",
              "      <th>3</th>\n",
              "      <td>3</td>\n",
              "      <td>403-9615377-8133951</td>\n",
              "      <td>04-30-22</td>\n",
              "      <td>Cancelled</td>\n",
              "      <td>Merchant</td>\n",
              "      <td>Amazon.in</td>\n",
              "      <td>Standard</td>\n",
              "      <td>Blazzer</td>\n",
              "      <td>L</td>\n",
              "      <td>On the Way</td>\n",
              "      <td>...</td>\n",
              "      <td>INR</td>\n",
              "      <td>753.33</td>\n",
              "      <td>PUDUCHERRY</td>\n",
              "      <td>PUDUCHERRY</td>\n",
              "      <td>605008.0</td>\n",
              "      <td>IN</td>\n",
              "      <td>False</td>\n",
              "      <td>Easy Ship</td>\n",
              "      <td>NaN</td>\n",
              "      <td>NaN</td>\n",
              "    </tr>\n",
              "    <tr>\n",
              "      <th>4</th>\n",
              "      <td>4</td>\n",
              "      <td>407-1069790-7240320</td>\n",
              "      <td>04-30-22</td>\n",
              "      <td>Shipped</td>\n",
              "      <td>Amazon</td>\n",
              "      <td>Amazon.in</td>\n",
              "      <td>Expedited</td>\n",
              "      <td>Trousers</td>\n",
              "      <td>3XL</td>\n",
              "      <td>Shipped</td>\n",
              "      <td>...</td>\n",
              "      <td>INR</td>\n",
              "      <td>574.00</td>\n",
              "      <td>CHENNAI</td>\n",
              "      <td>TAMIL NADU</td>\n",
              "      <td>600073.0</td>\n",
              "      <td>IN</td>\n",
              "      <td>False</td>\n",
              "      <td>NaN</td>\n",
              "      <td>NaN</td>\n",
              "      <td>NaN</td>\n",
              "    </tr>\n",
              "    <tr>\n",
              "      <th>...</th>\n",
              "      <td>...</td>\n",
              "      <td>...</td>\n",
              "      <td>...</td>\n",
              "      <td>...</td>\n",
              "      <td>...</td>\n",
              "      <td>...</td>\n",
              "      <td>...</td>\n",
              "      <td>...</td>\n",
              "      <td>...</td>\n",
              "      <td>...</td>\n",
              "      <td>...</td>\n",
              "      <td>...</td>\n",
              "      <td>...</td>\n",
              "      <td>...</td>\n",
              "      <td>...</td>\n",
              "      <td>...</td>\n",
              "      <td>...</td>\n",
              "      <td>...</td>\n",
              "      <td>...</td>\n",
              "      <td>...</td>\n",
              "      <td>...</td>\n",
              "    </tr>\n",
              "    <tr>\n",
              "      <th>128971</th>\n",
              "      <td>128970</td>\n",
              "      <td>406-6001380-7673107</td>\n",
              "      <td>05-31-22</td>\n",
              "      <td>Shipped</td>\n",
              "      <td>Amazon</td>\n",
              "      <td>Amazon.in</td>\n",
              "      <td>Expedited</td>\n",
              "      <td>Shirt</td>\n",
              "      <td>XL</td>\n",
              "      <td>Shipped</td>\n",
              "      <td>...</td>\n",
              "      <td>INR</td>\n",
              "      <td>517.00</td>\n",
              "      <td>HYDERABAD</td>\n",
              "      <td>TELANGANA</td>\n",
              "      <td>500013.0</td>\n",
              "      <td>IN</td>\n",
              "      <td>False</td>\n",
              "      <td>NaN</td>\n",
              "      <td>NaN</td>\n",
              "      <td>NaN</td>\n",
              "    </tr>\n",
              "    <tr>\n",
              "      <th>128972</th>\n",
              "      <td>128971</td>\n",
              "      <td>402-9551604-7544318</td>\n",
              "      <td>05-31-22</td>\n",
              "      <td>Shipped</td>\n",
              "      <td>Amazon</td>\n",
              "      <td>Amazon.in</td>\n",
              "      <td>Expedited</td>\n",
              "      <td>T-shirt</td>\n",
              "      <td>M</td>\n",
              "      <td>Shipped</td>\n",
              "      <td>...</td>\n",
              "      <td>INR</td>\n",
              "      <td>999.00</td>\n",
              "      <td>GURUGRAM</td>\n",
              "      <td>HARYANA</td>\n",
              "      <td>122004.0</td>\n",
              "      <td>IN</td>\n",
              "      <td>False</td>\n",
              "      <td>NaN</td>\n",
              "      <td>NaN</td>\n",
              "      <td>NaN</td>\n",
              "    </tr>\n",
              "    <tr>\n",
              "      <th>128973</th>\n",
              "      <td>128972</td>\n",
              "      <td>407-9547469-3152358</td>\n",
              "      <td>05-31-22</td>\n",
              "      <td>Shipped</td>\n",
              "      <td>Amazon</td>\n",
              "      <td>Amazon.in</td>\n",
              "      <td>Expedited</td>\n",
              "      <td>Blazzer</td>\n",
              "      <td>XXL</td>\n",
              "      <td>Shipped</td>\n",
              "      <td>...</td>\n",
              "      <td>INR</td>\n",
              "      <td>690.00</td>\n",
              "      <td>HYDERABAD</td>\n",
              "      <td>TELANGANA</td>\n",
              "      <td>500049.0</td>\n",
              "      <td>IN</td>\n",
              "      <td>False</td>\n",
              "      <td>NaN</td>\n",
              "      <td>NaN</td>\n",
              "      <td>NaN</td>\n",
              "    </tr>\n",
              "    <tr>\n",
              "      <th>128974</th>\n",
              "      <td>128973</td>\n",
              "      <td>402-6184140-0545956</td>\n",
              "      <td>05-31-22</td>\n",
              "      <td>Shipped</td>\n",
              "      <td>Amazon</td>\n",
              "      <td>Amazon.in</td>\n",
              "      <td>Expedited</td>\n",
              "      <td>T-shirt</td>\n",
              "      <td>XS</td>\n",
              "      <td>Shipped</td>\n",
              "      <td>...</td>\n",
              "      <td>INR</td>\n",
              "      <td>1199.00</td>\n",
              "      <td>Halol</td>\n",
              "      <td>Gujarat</td>\n",
              "      <td>389350.0</td>\n",
              "      <td>IN</td>\n",
              "      <td>False</td>\n",
              "      <td>NaN</td>\n",
              "      <td>NaN</td>\n",
              "      <td>NaN</td>\n",
              "    </tr>\n",
              "    <tr>\n",
              "      <th>128975</th>\n",
              "      <td>128974</td>\n",
              "      <td>408-7436540-8728312</td>\n",
              "      <td>05-31-22</td>\n",
              "      <td>Shipped</td>\n",
              "      <td>Amazon</td>\n",
              "      <td>Amazon.in</td>\n",
              "      <td>Expedited</td>\n",
              "      <td>T-shirt</td>\n",
              "      <td>S</td>\n",
              "      <td>Shipped</td>\n",
              "      <td>...</td>\n",
              "      <td>INR</td>\n",
              "      <td>696.00</td>\n",
              "      <td>Raipur</td>\n",
              "      <td>CHHATTISGARH</td>\n",
              "      <td>492014.0</td>\n",
              "      <td>IN</td>\n",
              "      <td>False</td>\n",
              "      <td>NaN</td>\n",
              "      <td>NaN</td>\n",
              "      <td>NaN</td>\n",
              "    </tr>\n",
              "  </tbody>\n",
              "</table>\n",
              "<p>128976 rows × 21 columns</p>\n",
              "</div>\n",
              "    <div class=\"colab-df-buttons\">\n",
              "\n",
              "  <div class=\"colab-df-container\">\n",
              "    <button class=\"colab-df-convert\" onclick=\"convertToInteractive('df-4c1d55c0-7639-41d9-9f88-4bd8d3e0e541')\"\n",
              "            title=\"Convert this dataframe to an interactive table.\"\n",
              "            style=\"display:none;\">\n",
              "\n",
              "  <svg xmlns=\"http://www.w3.org/2000/svg\" height=\"24px\" viewBox=\"0 -960 960 960\">\n",
              "    <path d=\"M120-120v-720h720v720H120Zm60-500h600v-160H180v160Zm220 220h160v-160H400v160Zm0 220h160v-160H400v160ZM180-400h160v-160H180v160Zm440 0h160v-160H620v160ZM180-180h160v-160H180v160Zm440 0h160v-160H620v160Z\"/>\n",
              "  </svg>\n",
              "    </button>\n",
              "\n",
              "  <style>\n",
              "    .colab-df-container {\n",
              "      display:flex;\n",
              "      gap: 12px;\n",
              "    }\n",
              "\n",
              "    .colab-df-convert {\n",
              "      background-color: #E8F0FE;\n",
              "      border: none;\n",
              "      border-radius: 50%;\n",
              "      cursor: pointer;\n",
              "      display: none;\n",
              "      fill: #1967D2;\n",
              "      height: 32px;\n",
              "      padding: 0 0 0 0;\n",
              "      width: 32px;\n",
              "    }\n",
              "\n",
              "    .colab-df-convert:hover {\n",
              "      background-color: #E2EBFA;\n",
              "      box-shadow: 0px 1px 2px rgba(60, 64, 67, 0.3), 0px 1px 3px 1px rgba(60, 64, 67, 0.15);\n",
              "      fill: #174EA6;\n",
              "    }\n",
              "\n",
              "    .colab-df-buttons div {\n",
              "      margin-bottom: 4px;\n",
              "    }\n",
              "\n",
              "    [theme=dark] .colab-df-convert {\n",
              "      background-color: #3B4455;\n",
              "      fill: #D2E3FC;\n",
              "    }\n",
              "\n",
              "    [theme=dark] .colab-df-convert:hover {\n",
              "      background-color: #434B5C;\n",
              "      box-shadow: 0px 1px 3px 1px rgba(0, 0, 0, 0.15);\n",
              "      filter: drop-shadow(0px 1px 2px rgba(0, 0, 0, 0.3));\n",
              "      fill: #FFFFFF;\n",
              "    }\n",
              "  </style>\n",
              "\n",
              "    <script>\n",
              "      const buttonEl =\n",
              "        document.querySelector('#df-4c1d55c0-7639-41d9-9f88-4bd8d3e0e541 button.colab-df-convert');\n",
              "      buttonEl.style.display =\n",
              "        google.colab.kernel.accessAllowed ? 'block' : 'none';\n",
              "\n",
              "      async function convertToInteractive(key) {\n",
              "        const element = document.querySelector('#df-4c1d55c0-7639-41d9-9f88-4bd8d3e0e541');\n",
              "        const dataTable =\n",
              "          await google.colab.kernel.invokeFunction('convertToInteractive',\n",
              "                                                    [key], {});\n",
              "        if (!dataTable) return;\n",
              "\n",
              "        const docLinkHtml = 'Like what you see? Visit the ' +\n",
              "          '<a target=\"_blank\" href=https://colab.research.google.com/notebooks/data_table.ipynb>data table notebook</a>'\n",
              "          + ' to learn more about interactive tables.';\n",
              "        element.innerHTML = '';\n",
              "        dataTable['output_type'] = 'display_data';\n",
              "        await google.colab.output.renderOutput(dataTable, element);\n",
              "        const docLink = document.createElement('div');\n",
              "        docLink.innerHTML = docLinkHtml;\n",
              "        element.appendChild(docLink);\n",
              "      }\n",
              "    </script>\n",
              "  </div>\n",
              "\n",
              "\n",
              "<div id=\"df-b152a584-df1c-4316-bed5-3056912405f4\">\n",
              "  <button class=\"colab-df-quickchart\" onclick=\"quickchart('df-b152a584-df1c-4316-bed5-3056912405f4')\"\n",
              "            title=\"Suggest charts\"\n",
              "            style=\"display:none;\">\n",
              "\n",
              "<svg xmlns=\"http://www.w3.org/2000/svg\" height=\"24px\"viewBox=\"0 0 24 24\"\n",
              "     width=\"24px\">\n",
              "    <g>\n",
              "        <path d=\"M19 3H5c-1.1 0-2 .9-2 2v14c0 1.1.9 2 2 2h14c1.1 0 2-.9 2-2V5c0-1.1-.9-2-2-2zM9 17H7v-7h2v7zm4 0h-2V7h2v10zm4 0h-2v-4h2v4z\"/>\n",
              "    </g>\n",
              "</svg>\n",
              "  </button>\n",
              "\n",
              "<style>\n",
              "  .colab-df-quickchart {\n",
              "      --bg-color: #E8F0FE;\n",
              "      --fill-color: #1967D2;\n",
              "      --hover-bg-color: #E2EBFA;\n",
              "      --hover-fill-color: #174EA6;\n",
              "      --disabled-fill-color: #AAA;\n",
              "      --disabled-bg-color: #DDD;\n",
              "  }\n",
              "\n",
              "  [theme=dark] .colab-df-quickchart {\n",
              "      --bg-color: #3B4455;\n",
              "      --fill-color: #D2E3FC;\n",
              "      --hover-bg-color: #434B5C;\n",
              "      --hover-fill-color: #FFFFFF;\n",
              "      --disabled-bg-color: #3B4455;\n",
              "      --disabled-fill-color: #666;\n",
              "  }\n",
              "\n",
              "  .colab-df-quickchart {\n",
              "    background-color: var(--bg-color);\n",
              "    border: none;\n",
              "    border-radius: 50%;\n",
              "    cursor: pointer;\n",
              "    display: none;\n",
              "    fill: var(--fill-color);\n",
              "    height: 32px;\n",
              "    padding: 0;\n",
              "    width: 32px;\n",
              "  }\n",
              "\n",
              "  .colab-df-quickchart:hover {\n",
              "    background-color: var(--hover-bg-color);\n",
              "    box-shadow: 0 1px 2px rgba(60, 64, 67, 0.3), 0 1px 3px 1px rgba(60, 64, 67, 0.15);\n",
              "    fill: var(--button-hover-fill-color);\n",
              "  }\n",
              "\n",
              "  .colab-df-quickchart-complete:disabled,\n",
              "  .colab-df-quickchart-complete:disabled:hover {\n",
              "    background-color: var(--disabled-bg-color);\n",
              "    fill: var(--disabled-fill-color);\n",
              "    box-shadow: none;\n",
              "  }\n",
              "\n",
              "  .colab-df-spinner {\n",
              "    border: 2px solid var(--fill-color);\n",
              "    border-color: transparent;\n",
              "    border-bottom-color: var(--fill-color);\n",
              "    animation:\n",
              "      spin 1s steps(1) infinite;\n",
              "  }\n",
              "\n",
              "  @keyframes spin {\n",
              "    0% {\n",
              "      border-color: transparent;\n",
              "      border-bottom-color: var(--fill-color);\n",
              "      border-left-color: var(--fill-color);\n",
              "    }\n",
              "    20% {\n",
              "      border-color: transparent;\n",
              "      border-left-color: var(--fill-color);\n",
              "      border-top-color: var(--fill-color);\n",
              "    }\n",
              "    30% {\n",
              "      border-color: transparent;\n",
              "      border-left-color: var(--fill-color);\n",
              "      border-top-color: var(--fill-color);\n",
              "      border-right-color: var(--fill-color);\n",
              "    }\n",
              "    40% {\n",
              "      border-color: transparent;\n",
              "      border-right-color: var(--fill-color);\n",
              "      border-top-color: var(--fill-color);\n",
              "    }\n",
              "    60% {\n",
              "      border-color: transparent;\n",
              "      border-right-color: var(--fill-color);\n",
              "    }\n",
              "    80% {\n",
              "      border-color: transparent;\n",
              "      border-right-color: var(--fill-color);\n",
              "      border-bottom-color: var(--fill-color);\n",
              "    }\n",
              "    90% {\n",
              "      border-color: transparent;\n",
              "      border-bottom-color: var(--fill-color);\n",
              "    }\n",
              "  }\n",
              "</style>\n",
              "\n",
              "  <script>\n",
              "    async function quickchart(key) {\n",
              "      const quickchartButtonEl =\n",
              "        document.querySelector('#' + key + ' button');\n",
              "      quickchartButtonEl.disabled = true;  // To prevent multiple clicks.\n",
              "      quickchartButtonEl.classList.add('colab-df-spinner');\n",
              "      try {\n",
              "        const charts = await google.colab.kernel.invokeFunction(\n",
              "            'suggestCharts', [key], {});\n",
              "      } catch (error) {\n",
              "        console.error('Error during call to suggestCharts:', error);\n",
              "      }\n",
              "      quickchartButtonEl.classList.remove('colab-df-spinner');\n",
              "      quickchartButtonEl.classList.add('colab-df-quickchart-complete');\n",
              "    }\n",
              "    (() => {\n",
              "      let quickchartButtonEl =\n",
              "        document.querySelector('#df-b152a584-df1c-4316-bed5-3056912405f4 button');\n",
              "      quickchartButtonEl.style.display =\n",
              "        google.colab.kernel.accessAllowed ? 'block' : 'none';\n",
              "    })();\n",
              "  </script>\n",
              "</div>\n",
              "\n",
              "  <div id=\"id_7de6419b-a003-40fb-b3fa-37d48db46ed6\">\n",
              "    <style>\n",
              "      .colab-df-generate {\n",
              "        background-color: #E8F0FE;\n",
              "        border: none;\n",
              "        border-radius: 50%;\n",
              "        cursor: pointer;\n",
              "        display: none;\n",
              "        fill: #1967D2;\n",
              "        height: 32px;\n",
              "        padding: 0 0 0 0;\n",
              "        width: 32px;\n",
              "      }\n",
              "\n",
              "      .colab-df-generate:hover {\n",
              "        background-color: #E2EBFA;\n",
              "        box-shadow: 0px 1px 2px rgba(60, 64, 67, 0.3), 0px 1px 3px 1px rgba(60, 64, 67, 0.15);\n",
              "        fill: #174EA6;\n",
              "      }\n",
              "\n",
              "      [theme=dark] .colab-df-generate {\n",
              "        background-color: #3B4455;\n",
              "        fill: #D2E3FC;\n",
              "      }\n",
              "\n",
              "      [theme=dark] .colab-df-generate:hover {\n",
              "        background-color: #434B5C;\n",
              "        box-shadow: 0px 1px 3px 1px rgba(0, 0, 0, 0.15);\n",
              "        filter: drop-shadow(0px 1px 2px rgba(0, 0, 0, 0.3));\n",
              "        fill: #FFFFFF;\n",
              "      }\n",
              "    </style>\n",
              "    <button class=\"colab-df-generate\" onclick=\"generateWithVariable('df')\"\n",
              "            title=\"Generate code using this dataframe.\"\n",
              "            style=\"display:none;\">\n",
              "\n",
              "  <svg xmlns=\"http://www.w3.org/2000/svg\" height=\"24px\"viewBox=\"0 0 24 24\"\n",
              "       width=\"24px\">\n",
              "    <path d=\"M7,19H8.4L18.45,9,17,7.55,7,17.6ZM5,21V16.75L18.45,3.32a2,2,0,0,1,2.83,0l1.4,1.43a1.91,1.91,0,0,1,.58,1.4,1.91,1.91,0,0,1-.58,1.4L9.25,21ZM18.45,9,17,7.55Zm-12,3A5.31,5.31,0,0,0,4.9,8.1,5.31,5.31,0,0,0,1,6.5,5.31,5.31,0,0,0,4.9,4.9,5.31,5.31,0,0,0,6.5,1,5.31,5.31,0,0,0,8.1,4.9,5.31,5.31,0,0,0,12,6.5,5.46,5.46,0,0,0,6.5,12Z\"/>\n",
              "  </svg>\n",
              "    </button>\n",
              "    <script>\n",
              "      (() => {\n",
              "      const buttonEl =\n",
              "        document.querySelector('#id_7de6419b-a003-40fb-b3fa-37d48db46ed6 button.colab-df-generate');\n",
              "      buttonEl.style.display =\n",
              "        google.colab.kernel.accessAllowed ? 'block' : 'none';\n",
              "\n",
              "      buttonEl.onclick = () => {\n",
              "        google.colab.notebook.generateWithVariable('df');\n",
              "      }\n",
              "      })();\n",
              "    </script>\n",
              "  </div>\n",
              "\n",
              "    </div>\n",
              "  </div>\n"
            ],
            "application/vnd.google.colaboratory.intrinsic+json": {
              "type": "dataframe",
              "variable_name": "df"
            }
          },
          "metadata": {},
          "execution_count": 4
        }
      ]
    },
    {
      "cell_type": "code",
      "source": [
        "df.head()"
      ],
      "metadata": {
        "colab": {
          "base_uri": "https://localhost:8080/",
          "height": 443
        },
        "id": "iFPeDJ6GCa5b",
        "outputId": "ba7992e7-39e3-4476-c092-17a7d84aa557"
      },
      "execution_count": 5,
      "outputs": [
        {
          "output_type": "execute_result",
          "data": {
            "text/plain": [
              "   index             Order ID      Date                        Status  \\\n",
              "0      0  405-8078784-5731545  04-30-22                     Cancelled   \n",
              "1      1  171-9198151-1101146  04-30-22  Shipped - Delivered to Buyer   \n",
              "2      2  404-0687676-7273146  04-30-22                       Shipped   \n",
              "3      3  403-9615377-8133951  04-30-22                     Cancelled   \n",
              "4      4  407-1069790-7240320  04-30-22                       Shipped   \n",
              "\n",
              "  Fulfilment Sales Channel ship-service-level  Category Size Courier Status  \\\n",
              "0   Merchant     Amazon.in           Standard   T-shirt    S     On the Way   \n",
              "1   Merchant     Amazon.in           Standard     Shirt  3XL        Shipped   \n",
              "2     Amazon     Amazon.in          Expedited     Shirt   XL        Shipped   \n",
              "3   Merchant     Amazon.in           Standard   Blazzer    L     On the Way   \n",
              "4     Amazon     Amazon.in          Expedited  Trousers  3XL        Shipped   \n",
              "\n",
              "   ...  currency  Amount    ship-city   ship-state ship-postal-code  \\\n",
              "0  ...       INR  647.62       MUMBAI  MAHARASHTRA         400081.0   \n",
              "1  ...       INR  406.00    BENGALURU    KARNATAKA         560085.0   \n",
              "2  ...       INR  329.00  NAVI MUMBAI  MAHARASHTRA         410210.0   \n",
              "3  ...       INR  753.33   PUDUCHERRY   PUDUCHERRY         605008.0   \n",
              "4  ...       INR  574.00      CHENNAI   TAMIL NADU         600073.0   \n",
              "\n",
              "   ship-country    B2B  fulfilled-by New  PendingS  \n",
              "0            IN  False     Easy Ship NaN       NaN  \n",
              "1            IN  False     Easy Ship NaN       NaN  \n",
              "2            IN   True           NaN NaN       NaN  \n",
              "3            IN  False     Easy Ship NaN       NaN  \n",
              "4            IN  False           NaN NaN       NaN  \n",
              "\n",
              "[5 rows x 21 columns]"
            ],
            "text/html": [
              "\n",
              "  <div id=\"df-9f0e56a4-8787-4269-bbff-a03e5065dc77\" class=\"colab-df-container\">\n",
              "    <div>\n",
              "<style scoped>\n",
              "    .dataframe tbody tr th:only-of-type {\n",
              "        vertical-align: middle;\n",
              "    }\n",
              "\n",
              "    .dataframe tbody tr th {\n",
              "        vertical-align: top;\n",
              "    }\n",
              "\n",
              "    .dataframe thead th {\n",
              "        text-align: right;\n",
              "    }\n",
              "</style>\n",
              "<table border=\"1\" class=\"dataframe\">\n",
              "  <thead>\n",
              "    <tr style=\"text-align: right;\">\n",
              "      <th></th>\n",
              "      <th>index</th>\n",
              "      <th>Order ID</th>\n",
              "      <th>Date</th>\n",
              "      <th>Status</th>\n",
              "      <th>Fulfilment</th>\n",
              "      <th>Sales Channel</th>\n",
              "      <th>ship-service-level</th>\n",
              "      <th>Category</th>\n",
              "      <th>Size</th>\n",
              "      <th>Courier Status</th>\n",
              "      <th>...</th>\n",
              "      <th>currency</th>\n",
              "      <th>Amount</th>\n",
              "      <th>ship-city</th>\n",
              "      <th>ship-state</th>\n",
              "      <th>ship-postal-code</th>\n",
              "      <th>ship-country</th>\n",
              "      <th>B2B</th>\n",
              "      <th>fulfilled-by</th>\n",
              "      <th>New</th>\n",
              "      <th>PendingS</th>\n",
              "    </tr>\n",
              "  </thead>\n",
              "  <tbody>\n",
              "    <tr>\n",
              "      <th>0</th>\n",
              "      <td>0</td>\n",
              "      <td>405-8078784-5731545</td>\n",
              "      <td>04-30-22</td>\n",
              "      <td>Cancelled</td>\n",
              "      <td>Merchant</td>\n",
              "      <td>Amazon.in</td>\n",
              "      <td>Standard</td>\n",
              "      <td>T-shirt</td>\n",
              "      <td>S</td>\n",
              "      <td>On the Way</td>\n",
              "      <td>...</td>\n",
              "      <td>INR</td>\n",
              "      <td>647.62</td>\n",
              "      <td>MUMBAI</td>\n",
              "      <td>MAHARASHTRA</td>\n",
              "      <td>400081.0</td>\n",
              "      <td>IN</td>\n",
              "      <td>False</td>\n",
              "      <td>Easy Ship</td>\n",
              "      <td>NaN</td>\n",
              "      <td>NaN</td>\n",
              "    </tr>\n",
              "    <tr>\n",
              "      <th>1</th>\n",
              "      <td>1</td>\n",
              "      <td>171-9198151-1101146</td>\n",
              "      <td>04-30-22</td>\n",
              "      <td>Shipped - Delivered to Buyer</td>\n",
              "      <td>Merchant</td>\n",
              "      <td>Amazon.in</td>\n",
              "      <td>Standard</td>\n",
              "      <td>Shirt</td>\n",
              "      <td>3XL</td>\n",
              "      <td>Shipped</td>\n",
              "      <td>...</td>\n",
              "      <td>INR</td>\n",
              "      <td>406.00</td>\n",
              "      <td>BENGALURU</td>\n",
              "      <td>KARNATAKA</td>\n",
              "      <td>560085.0</td>\n",
              "      <td>IN</td>\n",
              "      <td>False</td>\n",
              "      <td>Easy Ship</td>\n",
              "      <td>NaN</td>\n",
              "      <td>NaN</td>\n",
              "    </tr>\n",
              "    <tr>\n",
              "      <th>2</th>\n",
              "      <td>2</td>\n",
              "      <td>404-0687676-7273146</td>\n",
              "      <td>04-30-22</td>\n",
              "      <td>Shipped</td>\n",
              "      <td>Amazon</td>\n",
              "      <td>Amazon.in</td>\n",
              "      <td>Expedited</td>\n",
              "      <td>Shirt</td>\n",
              "      <td>XL</td>\n",
              "      <td>Shipped</td>\n",
              "      <td>...</td>\n",
              "      <td>INR</td>\n",
              "      <td>329.00</td>\n",
              "      <td>NAVI MUMBAI</td>\n",
              "      <td>MAHARASHTRA</td>\n",
              "      <td>410210.0</td>\n",
              "      <td>IN</td>\n",
              "      <td>True</td>\n",
              "      <td>NaN</td>\n",
              "      <td>NaN</td>\n",
              "      <td>NaN</td>\n",
              "    </tr>\n",
              "    <tr>\n",
              "      <th>3</th>\n",
              "      <td>3</td>\n",
              "      <td>403-9615377-8133951</td>\n",
              "      <td>04-30-22</td>\n",
              "      <td>Cancelled</td>\n",
              "      <td>Merchant</td>\n",
              "      <td>Amazon.in</td>\n",
              "      <td>Standard</td>\n",
              "      <td>Blazzer</td>\n",
              "      <td>L</td>\n",
              "      <td>On the Way</td>\n",
              "      <td>...</td>\n",
              "      <td>INR</td>\n",
              "      <td>753.33</td>\n",
              "      <td>PUDUCHERRY</td>\n",
              "      <td>PUDUCHERRY</td>\n",
              "      <td>605008.0</td>\n",
              "      <td>IN</td>\n",
              "      <td>False</td>\n",
              "      <td>Easy Ship</td>\n",
              "      <td>NaN</td>\n",
              "      <td>NaN</td>\n",
              "    </tr>\n",
              "    <tr>\n",
              "      <th>4</th>\n",
              "      <td>4</td>\n",
              "      <td>407-1069790-7240320</td>\n",
              "      <td>04-30-22</td>\n",
              "      <td>Shipped</td>\n",
              "      <td>Amazon</td>\n",
              "      <td>Amazon.in</td>\n",
              "      <td>Expedited</td>\n",
              "      <td>Trousers</td>\n",
              "      <td>3XL</td>\n",
              "      <td>Shipped</td>\n",
              "      <td>...</td>\n",
              "      <td>INR</td>\n",
              "      <td>574.00</td>\n",
              "      <td>CHENNAI</td>\n",
              "      <td>TAMIL NADU</td>\n",
              "      <td>600073.0</td>\n",
              "      <td>IN</td>\n",
              "      <td>False</td>\n",
              "      <td>NaN</td>\n",
              "      <td>NaN</td>\n",
              "      <td>NaN</td>\n",
              "    </tr>\n",
              "  </tbody>\n",
              "</table>\n",
              "<p>5 rows × 21 columns</p>\n",
              "</div>\n",
              "    <div class=\"colab-df-buttons\">\n",
              "\n",
              "  <div class=\"colab-df-container\">\n",
              "    <button class=\"colab-df-convert\" onclick=\"convertToInteractive('df-9f0e56a4-8787-4269-bbff-a03e5065dc77')\"\n",
              "            title=\"Convert this dataframe to an interactive table.\"\n",
              "            style=\"display:none;\">\n",
              "\n",
              "  <svg xmlns=\"http://www.w3.org/2000/svg\" height=\"24px\" viewBox=\"0 -960 960 960\">\n",
              "    <path d=\"M120-120v-720h720v720H120Zm60-500h600v-160H180v160Zm220 220h160v-160H400v160Zm0 220h160v-160H400v160ZM180-400h160v-160H180v160Zm440 0h160v-160H620v160ZM180-180h160v-160H180v160Zm440 0h160v-160H620v160Z\"/>\n",
              "  </svg>\n",
              "    </button>\n",
              "\n",
              "  <style>\n",
              "    .colab-df-container {\n",
              "      display:flex;\n",
              "      gap: 12px;\n",
              "    }\n",
              "\n",
              "    .colab-df-convert {\n",
              "      background-color: #E8F0FE;\n",
              "      border: none;\n",
              "      border-radius: 50%;\n",
              "      cursor: pointer;\n",
              "      display: none;\n",
              "      fill: #1967D2;\n",
              "      height: 32px;\n",
              "      padding: 0 0 0 0;\n",
              "      width: 32px;\n",
              "    }\n",
              "\n",
              "    .colab-df-convert:hover {\n",
              "      background-color: #E2EBFA;\n",
              "      box-shadow: 0px 1px 2px rgba(60, 64, 67, 0.3), 0px 1px 3px 1px rgba(60, 64, 67, 0.15);\n",
              "      fill: #174EA6;\n",
              "    }\n",
              "\n",
              "    .colab-df-buttons div {\n",
              "      margin-bottom: 4px;\n",
              "    }\n",
              "\n",
              "    [theme=dark] .colab-df-convert {\n",
              "      background-color: #3B4455;\n",
              "      fill: #D2E3FC;\n",
              "    }\n",
              "\n",
              "    [theme=dark] .colab-df-convert:hover {\n",
              "      background-color: #434B5C;\n",
              "      box-shadow: 0px 1px 3px 1px rgba(0, 0, 0, 0.15);\n",
              "      filter: drop-shadow(0px 1px 2px rgba(0, 0, 0, 0.3));\n",
              "      fill: #FFFFFF;\n",
              "    }\n",
              "  </style>\n",
              "\n",
              "    <script>\n",
              "      const buttonEl =\n",
              "        document.querySelector('#df-9f0e56a4-8787-4269-bbff-a03e5065dc77 button.colab-df-convert');\n",
              "      buttonEl.style.display =\n",
              "        google.colab.kernel.accessAllowed ? 'block' : 'none';\n",
              "\n",
              "      async function convertToInteractive(key) {\n",
              "        const element = document.querySelector('#df-9f0e56a4-8787-4269-bbff-a03e5065dc77');\n",
              "        const dataTable =\n",
              "          await google.colab.kernel.invokeFunction('convertToInteractive',\n",
              "                                                    [key], {});\n",
              "        if (!dataTable) return;\n",
              "\n",
              "        const docLinkHtml = 'Like what you see? Visit the ' +\n",
              "          '<a target=\"_blank\" href=https://colab.research.google.com/notebooks/data_table.ipynb>data table notebook</a>'\n",
              "          + ' to learn more about interactive tables.';\n",
              "        element.innerHTML = '';\n",
              "        dataTable['output_type'] = 'display_data';\n",
              "        await google.colab.output.renderOutput(dataTable, element);\n",
              "        const docLink = document.createElement('div');\n",
              "        docLink.innerHTML = docLinkHtml;\n",
              "        element.appendChild(docLink);\n",
              "      }\n",
              "    </script>\n",
              "  </div>\n",
              "\n",
              "\n",
              "<div id=\"df-22140634-12ec-42e7-a190-8ce4ffd7f8eb\">\n",
              "  <button class=\"colab-df-quickchart\" onclick=\"quickchart('df-22140634-12ec-42e7-a190-8ce4ffd7f8eb')\"\n",
              "            title=\"Suggest charts\"\n",
              "            style=\"display:none;\">\n",
              "\n",
              "<svg xmlns=\"http://www.w3.org/2000/svg\" height=\"24px\"viewBox=\"0 0 24 24\"\n",
              "     width=\"24px\">\n",
              "    <g>\n",
              "        <path d=\"M19 3H5c-1.1 0-2 .9-2 2v14c0 1.1.9 2 2 2h14c1.1 0 2-.9 2-2V5c0-1.1-.9-2-2-2zM9 17H7v-7h2v7zm4 0h-2V7h2v10zm4 0h-2v-4h2v4z\"/>\n",
              "    </g>\n",
              "</svg>\n",
              "  </button>\n",
              "\n",
              "<style>\n",
              "  .colab-df-quickchart {\n",
              "      --bg-color: #E8F0FE;\n",
              "      --fill-color: #1967D2;\n",
              "      --hover-bg-color: #E2EBFA;\n",
              "      --hover-fill-color: #174EA6;\n",
              "      --disabled-fill-color: #AAA;\n",
              "      --disabled-bg-color: #DDD;\n",
              "  }\n",
              "\n",
              "  [theme=dark] .colab-df-quickchart {\n",
              "      --bg-color: #3B4455;\n",
              "      --fill-color: #D2E3FC;\n",
              "      --hover-bg-color: #434B5C;\n",
              "      --hover-fill-color: #FFFFFF;\n",
              "      --disabled-bg-color: #3B4455;\n",
              "      --disabled-fill-color: #666;\n",
              "  }\n",
              "\n",
              "  .colab-df-quickchart {\n",
              "    background-color: var(--bg-color);\n",
              "    border: none;\n",
              "    border-radius: 50%;\n",
              "    cursor: pointer;\n",
              "    display: none;\n",
              "    fill: var(--fill-color);\n",
              "    height: 32px;\n",
              "    padding: 0;\n",
              "    width: 32px;\n",
              "  }\n",
              "\n",
              "  .colab-df-quickchart:hover {\n",
              "    background-color: var(--hover-bg-color);\n",
              "    box-shadow: 0 1px 2px rgba(60, 64, 67, 0.3), 0 1px 3px 1px rgba(60, 64, 67, 0.15);\n",
              "    fill: var(--button-hover-fill-color);\n",
              "  }\n",
              "\n",
              "  .colab-df-quickchart-complete:disabled,\n",
              "  .colab-df-quickchart-complete:disabled:hover {\n",
              "    background-color: var(--disabled-bg-color);\n",
              "    fill: var(--disabled-fill-color);\n",
              "    box-shadow: none;\n",
              "  }\n",
              "\n",
              "  .colab-df-spinner {\n",
              "    border: 2px solid var(--fill-color);\n",
              "    border-color: transparent;\n",
              "    border-bottom-color: var(--fill-color);\n",
              "    animation:\n",
              "      spin 1s steps(1) infinite;\n",
              "  }\n",
              "\n",
              "  @keyframes spin {\n",
              "    0% {\n",
              "      border-color: transparent;\n",
              "      border-bottom-color: var(--fill-color);\n",
              "      border-left-color: var(--fill-color);\n",
              "    }\n",
              "    20% {\n",
              "      border-color: transparent;\n",
              "      border-left-color: var(--fill-color);\n",
              "      border-top-color: var(--fill-color);\n",
              "    }\n",
              "    30% {\n",
              "      border-color: transparent;\n",
              "      border-left-color: var(--fill-color);\n",
              "      border-top-color: var(--fill-color);\n",
              "      border-right-color: var(--fill-color);\n",
              "    }\n",
              "    40% {\n",
              "      border-color: transparent;\n",
              "      border-right-color: var(--fill-color);\n",
              "      border-top-color: var(--fill-color);\n",
              "    }\n",
              "    60% {\n",
              "      border-color: transparent;\n",
              "      border-right-color: var(--fill-color);\n",
              "    }\n",
              "    80% {\n",
              "      border-color: transparent;\n",
              "      border-right-color: var(--fill-color);\n",
              "      border-bottom-color: var(--fill-color);\n",
              "    }\n",
              "    90% {\n",
              "      border-color: transparent;\n",
              "      border-bottom-color: var(--fill-color);\n",
              "    }\n",
              "  }\n",
              "</style>\n",
              "\n",
              "  <script>\n",
              "    async function quickchart(key) {\n",
              "      const quickchartButtonEl =\n",
              "        document.querySelector('#' + key + ' button');\n",
              "      quickchartButtonEl.disabled = true;  // To prevent multiple clicks.\n",
              "      quickchartButtonEl.classList.add('colab-df-spinner');\n",
              "      try {\n",
              "        const charts = await google.colab.kernel.invokeFunction(\n",
              "            'suggestCharts', [key], {});\n",
              "      } catch (error) {\n",
              "        console.error('Error during call to suggestCharts:', error);\n",
              "      }\n",
              "      quickchartButtonEl.classList.remove('colab-df-spinner');\n",
              "      quickchartButtonEl.classList.add('colab-df-quickchart-complete');\n",
              "    }\n",
              "    (() => {\n",
              "      let quickchartButtonEl =\n",
              "        document.querySelector('#df-22140634-12ec-42e7-a190-8ce4ffd7f8eb button');\n",
              "      quickchartButtonEl.style.display =\n",
              "        google.colab.kernel.accessAllowed ? 'block' : 'none';\n",
              "    })();\n",
              "  </script>\n",
              "</div>\n",
              "\n",
              "    </div>\n",
              "  </div>\n"
            ],
            "application/vnd.google.colaboratory.intrinsic+json": {
              "type": "dataframe",
              "variable_name": "df"
            }
          },
          "metadata": {},
          "execution_count": 5
        }
      ]
    },
    {
      "cell_type": "markdown",
      "metadata": {
        "id": "7hBIi_osiCS2"
      },
      "source": [
        "### Dataset Rows & Columns count"
      ]
    },
    {
      "cell_type": "code",
      "source": [
        "# Dataset Rows & Columns count\n",
        "raws , columns = df.shape\n",
        "print(f'Number of raws:{raws}, Number of columns:{columns}')"
      ],
      "metadata": {
        "colab": {
          "base_uri": "https://localhost:8080/"
        },
        "id": "KiR5dn3eWG7T",
        "outputId": "46fb58bd-dfe0-423b-ef81-c54a39d59246"
      },
      "execution_count": 6,
      "outputs": [
        {
          "output_type": "stream",
          "name": "stdout",
          "text": [
            "Number of raws:128976, Number of columns:21\n"
          ]
        }
      ]
    },
    {
      "cell_type": "markdown",
      "metadata": {
        "id": "JlHwYmJAmNHm"
      },
      "source": [
        "### Dataset Information"
      ]
    },
    {
      "cell_type": "code",
      "source": [
        "# Dataset Info\n",
        "df.info()"
      ],
      "metadata": {
        "colab": {
          "base_uri": "https://localhost:8080/"
        },
        "id": "4F-83s7SV0sQ",
        "outputId": "3371751a-ca6d-44ff-f048-1fd5329c45fb"
      },
      "execution_count": 7,
      "outputs": [
        {
          "output_type": "stream",
          "name": "stdout",
          "text": [
            "<class 'pandas.core.frame.DataFrame'>\n",
            "RangeIndex: 128976 entries, 0 to 128975\n",
            "Data columns (total 21 columns):\n",
            " #   Column              Non-Null Count   Dtype  \n",
            "---  ------              --------------   -----  \n",
            " 0   index               128976 non-null  int64  \n",
            " 1   Order ID            128976 non-null  object \n",
            " 2   Date                128976 non-null  object \n",
            " 3   Status              128976 non-null  object \n",
            " 4   Fulfilment          128976 non-null  object \n",
            " 5   Sales Channel       128976 non-null  object \n",
            " 6   ship-service-level  128976 non-null  object \n",
            " 7   Category            128976 non-null  object \n",
            " 8   Size                128976 non-null  object \n",
            " 9   Courier Status      128976 non-null  object \n",
            " 10  Qty                 128976 non-null  int64  \n",
            " 11  currency            121176 non-null  object \n",
            " 12  Amount              121176 non-null  float64\n",
            " 13  ship-city           128941 non-null  object \n",
            " 14  ship-state          128941 non-null  object \n",
            " 15  ship-postal-code    128941 non-null  float64\n",
            " 16  ship-country        128941 non-null  object \n",
            " 17  B2B                 128976 non-null  bool   \n",
            " 18  fulfilled-by        39263 non-null   object \n",
            " 19  New                 0 non-null       float64\n",
            " 20  PendingS            0 non-null       float64\n",
            "dtypes: bool(1), float64(4), int64(2), object(14)\n",
            "memory usage: 19.8+ MB\n"
          ]
        }
      ]
    },
    {
      "cell_type": "markdown",
      "metadata": {
        "id": "PoPl-ycgm1ru"
      },
      "source": [
        "#### Missing Values/Null Values"
      ]
    },
    {
      "cell_type": "code",
      "source": [
        "# Missing Values/Null Values Count\n",
        "\n",
        "# Count missing/null values\n",
        "df.isnull().sum()"
      ],
      "metadata": {
        "colab": {
          "base_uri": "https://localhost:8080/"
        },
        "id": "z6sVRdSvcHG2",
        "outputId": "f6572a4e-d4f7-4f56-ab96-08f04eb87698"
      },
      "execution_count": 8,
      "outputs": [
        {
          "output_type": "execute_result",
          "data": {
            "text/plain": [
              "index                      0\n",
              "Order ID                   0\n",
              "Date                       0\n",
              "Status                     0\n",
              "Fulfilment                 0\n",
              "Sales Channel              0\n",
              "ship-service-level         0\n",
              "Category                   0\n",
              "Size                       0\n",
              "Courier Status             0\n",
              "Qty                        0\n",
              "currency                7800\n",
              "Amount                  7800\n",
              "ship-city                 35\n",
              "ship-state                35\n",
              "ship-postal-code          35\n",
              "ship-country              35\n",
              "B2B                        0\n",
              "fulfilled-by           89713\n",
              "New                   128976\n",
              "PendingS              128976\n",
              "dtype: int64"
            ]
          },
          "metadata": {},
          "execution_count": 8
        }
      ]
    },
    {
      "cell_type": "markdown",
      "metadata": {
        "id": "nA9Y7ga8ng1Z"
      },
      "source": [
        "## ***Understanding Your Variables***"
      ]
    },
    {
      "cell_type": "code",
      "source": [
        "# Dataset Columns\n",
        "# Display dataset columns\n",
        "print(\"Dataset Columns:\")\n",
        "print(df.columns)\n"
      ],
      "metadata": {
        "colab": {
          "base_uri": "https://localhost:8080/"
        },
        "id": "GR4Ob10H1aH2",
        "outputId": "6f6f2c38-790a-471d-978f-b20e1929ee98"
      },
      "execution_count": 9,
      "outputs": [
        {
          "output_type": "stream",
          "name": "stdout",
          "text": [
            "Dataset Columns:\n",
            "Index(['index', 'Order ID', 'Date', 'Status', 'Fulfilment', 'Sales Channel',\n",
            "       'ship-service-level', 'Category', 'Size', 'Courier Status', 'Qty',\n",
            "       'currency', 'Amount', 'ship-city', 'ship-state', 'ship-postal-code',\n",
            "       'ship-country', 'B2B', 'fulfilled-by', 'New', 'PendingS'],\n",
            "      dtype='object')\n"
          ]
        }
      ]
    },
    {
      "cell_type": "code",
      "source": [
        "# Dataset Describe\n",
        "# Display dataset description\n",
        "print(\"\\nDataset Description:\")\n",
        "print(df.describe())"
      ],
      "metadata": {
        "colab": {
          "base_uri": "https://localhost:8080/"
        },
        "id": "-JhB9H6R1fHi",
        "outputId": "60edd6d5-3b83-4fa0-dda3-5e66d7295687"
      },
      "execution_count": 10,
      "outputs": [
        {
          "output_type": "stream",
          "name": "stdout",
          "text": [
            "\n",
            "Dataset Description:\n",
            "               index            Qty         Amount  ship-postal-code  New  \\\n",
            "count  128976.000000  128976.000000  121176.000000     128941.000000  0.0   \n",
            "mean    64486.130427       0.904401     648.562176     463945.677744  NaN   \n",
            "std     37232.897832       0.313368     281.185041     191458.488954  NaN   \n",
            "min         0.000000       0.000000       0.000000     110001.000000  NaN   \n",
            "25%     32242.750000       1.000000     449.000000     382421.000000  NaN   \n",
            "50%     64486.500000       1.000000     605.000000     500033.000000  NaN   \n",
            "75%     96730.250000       1.000000     788.000000     600024.000000  NaN   \n",
            "max    128974.000000      15.000000    5584.000000     989898.000000  NaN   \n",
            "\n",
            "       PendingS  \n",
            "count       0.0  \n",
            "mean        NaN  \n",
            "std         NaN  \n",
            "min         NaN  \n",
            "25%         NaN  \n",
            "50%         NaN  \n",
            "75%         NaN  \n",
            "max         NaN  \n"
          ]
        }
      ]
    },
    {
      "cell_type": "markdown",
      "metadata": {
        "id": "dauF4eBmngu3"
      },
      "source": [
        "##  ***Data Wrangling***"
      ]
    },
    {
      "cell_type": "markdown",
      "metadata": {
        "id": "Rmck6Tkk2fdl"
      },
      "source": [
        "#### Remove Missing Values/Null Values"
      ]
    },
    {
      "cell_type": "code",
      "source": [
        "# remove the null raws\n",
        "df.dropna(subset = ['Amount'], inplace = True)\n",
        "df.dropna(subset = ['ship-city', 'ship-state', 'ship-country'], inplace  = True)"
      ],
      "metadata": {
        "id": "swtUWCzv2KCJ"
      },
      "execution_count": 11,
      "outputs": []
    },
    {
      "cell_type": "markdown",
      "metadata": {
        "id": "fWaE8r1T2yLQ"
      },
      "source": [
        "#### Drop Unnecessary Column"
      ]
    },
    {
      "cell_type": "code",
      "source": [
        "# drop coulumns\n",
        "coloumn_to_drop = ['New', 'PendingS', 'index']\n",
        "df.drop(columns = coloumn_to_drop, inplace = True)"
      ],
      "metadata": {
        "id": "LXfq9kBb2k8-"
      },
      "execution_count": 12,
      "outputs": []
    },
    {
      "cell_type": "markdown",
      "metadata": {
        "id": "0OeJuxqX30TD"
      },
      "source": [
        "#### Replacing Null Values"
      ]
    },
    {
      "cell_type": "code",
      "source": [
        "# replacing null value with other value\n",
        "df['currency'].fillna('INR', inplace = True)\n",
        "df['fulfilled-by'].fillna('unknown', inplace =  True)"
      ],
      "metadata": {
        "id": "GlUigS322k7Q"
      },
      "execution_count": 13,
      "outputs": []
    },
    {
      "cell_type": "code",
      "source": [
        "# change data type of date column object to date data type\n",
        "df['Date'] = pd.to_datetime(df['Date'], errors='coerce')\n",
        "df['Date'] = df['Date'].fillna(pd.to_datetime(df['Date'], format='%m-%d-%Y', errors='coerce'))\n"
      ],
      "metadata": {
        "colab": {
          "base_uri": "https://localhost:8080/"
        },
        "id": "QUOM0MBZ3P8m",
        "outputId": "a650db2d-cde8-4ac2-de93-c961fd6c1ba2"
      },
      "execution_count": 14,
      "outputs": [
        {
          "output_type": "stream",
          "name": "stderr",
          "text": [
            "<ipython-input-14-8cceb80711f1>:2: UserWarning: Could not infer format, so each element will be parsed individually, falling back to `dateutil`. To ensure parsing is consistent and as-expected, please specify a format.\n",
            "  df['Date'] = pd.to_datetime(df['Date'], errors='coerce')\n"
          ]
        }
      ]
    },
    {
      "cell_type": "code",
      "source": [
        "# Convert Date to datetime format\n",
        "df['Date'] = pd.to_datetime(df['Date'], format='%m-%d-%y')\n",
        "\n",
        "# Convert Amount to numeric\n",
        "df['Amount'] = pd.to_numeric(df['Amount'], errors='coerce')"
      ],
      "metadata": {
        "id": "51YeSG7h78Hm"
      },
      "execution_count": 15,
      "outputs": []
    },
    {
      "cell_type": "markdown",
      "source": [
        "### Sale Overview"
      ],
      "metadata": {
        "id": "uNh0TacSkOEg"
      }
    },
    {
      "cell_type": "code",
      "source": [
        "# Aggregate sales data by month\n",
        "monthly_sales_overview = df.groupby(pd.Grouper(key='Date', freq='M')).agg({'Amount': ['sum', 'mean', 'count']})\n",
        "monthly_sales_overview.columns = ['Total Sales', 'Average Sales per Order', 'Number of Orders']\n",
        "\n",
        "# Reset index to have 'Date' as a column again\n",
        "monthly_sales_overview = monthly_sales_overview.reset_index()\n",
        "\n",
        "# Display the monthly sales overview\n",
        "print(monthly_sales_overview.head())"
      ],
      "metadata": {
        "colab": {
          "base_uri": "https://localhost:8080/"
        },
        "id": "tgi3IBiwAScm",
        "outputId": "bf230a85-8b42-49d8-ef61-0467faf83cab"
      },
      "execution_count": 16,
      "outputs": [
        {
          "output_type": "stream",
          "name": "stdout",
          "text": [
            "        Date  Total Sales  Average Sales per Order  Number of Orders\n",
            "0 2022-03-31    101683.85               627.678086               162\n",
            "1 2022-04-30  28827790.27               626.024241             46049\n",
            "2 2022-05-31  26219850.75               663.373833             39525\n",
            "3 2022-06-30  23421223.38               661.485677             35407\n"
          ]
        }
      ]
    },
    {
      "cell_type": "code",
      "source": [
        "# Plotting\n",
        "plt.figure(figsize=(10, 6))\n",
        "plt.plot(monthly_sales_overview['Date'], monthly_sales_overview['Total Sales'], marker='o', linestyle='-', color='b', label='Total Sales')\n",
        "\n",
        "plt.title('Total Monthly Sales Overview')\n",
        "plt.xlabel('Month')\n",
        "plt.ylabel('Total Sales')\n",
        "plt.xticks(rotation=45)\n",
        "plt.grid(True)\n",
        "plt.legend()\n",
        "plt.tight_layout()\n",
        "plt.show()"
      ],
      "metadata": {
        "colab": {
          "base_uri": "https://localhost:8080/",
          "height": 607
        },
        "id": "JQt5Xh9RGOtr",
        "outputId": "244e797f-ccf2-47a6-caf9-2aa2a1d63f98"
      },
      "execution_count": 17,
      "outputs": [
        {
          "output_type": "display_data",
          "data": {
            "text/plain": [
              "<Figure size 1000x600 with 1 Axes>"
            ],
            "image/png": "[encoded data removed]"
          },
          "metadata": {}
        }
      ]
    },
    {
      "cell_type": "markdown",
      "source": [
        "### Product Analysis\n"
      ],
      "metadata": {
        "id": "vKBZ7IFljiSQ"
      }
    },
    {
      "cell_type": "code",
      "source": [
        "# analysis the distribution of product categary\n",
        "categary_distribution =  df['Category'].value_counts()\n",
        "print(categary_distribution)\n"
      ],
      "metadata": {
        "colab": {
          "base_uri": "https://localhost:8080/"
        },
        "id": "uIE103nbnDLi",
        "outputId": "6864c8fe-6a11-4262-dd02-9fa92f92bff1"
      },
      "execution_count": 18,
      "outputs": [
        {
          "output_type": "stream",
          "name": "stdout",
          "text": [
            "Category\n",
            "T-shirt     47038\n",
            "Shirt       46695\n",
            "Blazzer     14702\n",
            "Trousers    10157\n",
            "Perfume      1091\n",
            "Wallet        881\n",
            "Socks         420\n",
            "Shoes         156\n",
            "Watch           3\n",
            "Name: count, dtype: int64\n"
          ]
        }
      ]
    },
    {
      "cell_type": "code",
      "source": [
        "# Distribution of product categories\n",
        "product_categories = df['Category'].value_counts()\n",
        "product_categories.plot(kind='bar', figsize=(10, 6))\n",
        "plt.title('Product Category Distribution')\n",
        "plt.xlabel('Category')\n",
        "plt.ylabel('Number of Orders')\n",
        "plt.show()"
      ],
      "metadata": {
        "colab": {
          "base_uri": "https://localhost:8080/",
          "height": 608
        },
        "id": "4wAf9AGT99Sr",
        "outputId": "1e9c950e-0a38-4e30-98fe-e52789f17be7"
      },
      "execution_count": 19,
      "outputs": [
        {
          "output_type": "display_data",
          "data": {
            "text/plain": [
              "<Figure size 1000x600 with 1 Axes>"
            ],
            "image/png": "[encoded data removed]"
          },
          "metadata": {}
        }
      ]
    },
    {
      "cell_type": "code",
      "source": [
        "# analysis the distribution of product size\n",
        "size_distribution = df['Size'].value_counts()\n",
        "print(size_distribution)"
      ],
      "metadata": {
        "colab": {
          "base_uri": "https://localhost:8080/"
        },
        "id": "d4oxW_w5mMe-",
        "outputId": "a0ec5029-16a4-4bd4-c105-478dd16a89f4"
      },
      "execution_count": 20,
      "outputs": [
        {
          "output_type": "stream",
          "name": "stdout",
          "text": [
            "Size\n",
            "M       20965\n",
            "L       20477\n",
            "XL      19418\n",
            "XXL     16785\n",
            "S       15645\n",
            "3XL     13884\n",
            "XS      10201\n",
            "Free     2131\n",
            "6XL       705\n",
            "5XL       526\n",
            "4XL       406\n",
            "Name: count, dtype: int64\n"
          ]
        }
      ]
    },
    {
      "cell_type": "code",
      "source": [
        "# Popular product sizes\n",
        "product_sizes = df['Size'].value_counts()\n",
        "product_sizes.plot(kind='bar', figsize=(10, 6))\n",
        "plt.title('Product Size Distribution')\n",
        "plt.xlabel('Size')\n",
        "plt.ylabel('Number of Orders')\n",
        "plt.show()"
      ],
      "metadata": {
        "colab": {
          "base_uri": "https://localhost:8080/",
          "height": 580
        },
        "id": "aqVjJXsL92u9",
        "outputId": "a29a3390-948e-4826-a303-c5a0e0aedae2"
      },
      "execution_count": 21,
      "outputs": [
        {
          "output_type": "display_data",
          "data": {
            "text/plain": [
              "<Figure size 1000x600 with 1 Axes>"
            ],
            "image/png": "[encoded data removed]"
          },
          "metadata": {}
        }
      ]
    },
    {
      "cell_type": "code",
      "source": [
        "# identify popular product\n",
        "popular_product = df.groupby('Category').agg({'Amount':'sum'}).sort_values(by = 'Amount', ascending = False )\n",
        "print(popular_product)"
      ],
      "metadata": {
        "colab": {
          "base_uri": "https://localhost:8080/"
        },
        "id": "LDnB1J09mf6A",
        "outputId": "e570fdf0-ae00-4bfc-ce5a-c85c1784ffdd"
      },
      "execution_count": 22,
      "outputs": [
        {
          "output_type": "stream",
          "name": "stdout",
          "text": [
            "               Amount\n",
            "Category             \n",
            "T-shirt   39197808.65\n",
            "Shirt     21289304.08\n",
            "Blazzer   11214369.12\n",
            "Trousers   5344813.30\n",
            "Perfume     789419.66\n",
            "Wallet      458408.18\n",
            "Socks       150757.50\n",
            "Shoes       124752.76\n",
            "Watch          915.00\n"
          ]
        }
      ]
    },
    {
      "cell_type": "markdown",
      "source": [
        "### Fulfillment Analysis"
      ],
      "metadata": {
        "id": "0wLDWKCmmq7a"
      }
    },
    {
      "cell_type": "code",
      "source": [
        "# Investigate the effectiveness of different fulfillment methods\n",
        "fulfillment_effectiveness = df.groupby('Fulfilment').agg({'Amount': ['sum', 'mean', 'count']})\n",
        "fulfillment_effectiveness.columns = ['Total Sales', 'Average Sales per Order', 'Number of Orders']\n",
        "\n",
        "# Display fulfillment effectiveness\n",
        "print(fulfillment_effectiveness)\n"
      ],
      "metadata": {
        "colab": {
          "base_uri": "https://localhost:8080/"
        },
        "id": "Y6t2ILOjmkJ_",
        "outputId": "5934d137-6efc-40d5-da3f-f1815a720afe"
      },
      "execution_count": 23,
      "outputs": [
        {
          "output_type": "stream",
          "name": "stdout",
          "text": [
            "            Total Sales  Average Sales per Order  Number of Orders\n",
            "Fulfilment                                                        \n",
            "Amazon      54315723.00               649.484306             83629\n",
            "Merchant    24254825.25               646.553960             37514\n"
          ]
        }
      ]
    },
    {
      "cell_type": "code",
      "source": [
        "# Count the number of orders by each fulfillment method\n",
        "fulfillment_preference = df['Fulfilment'].value_counts()\n",
        "\n",
        "# Display the fulfillment preference\n",
        "print(fulfillment_preference)"
      ],
      "metadata": {
        "colab": {
          "base_uri": "https://localhost:8080/"
        },
        "id": "pnOoo_2wB0lP",
        "outputId": "313f6d39-36cc-46ed-d31e-6a12f4b487c5"
      },
      "execution_count": 24,
      "outputs": [
        {
          "output_type": "stream",
          "name": "stdout",
          "text": [
            "Fulfilment\n",
            "Amazon      83629\n",
            "Merchant    37514\n",
            "Name: count, dtype: int64\n"
          ]
        }
      ]
    },
    {
      "cell_type": "code",
      "source": [
        "# Plot a pie chart for the number of orders for each fulfillment method\n",
        "plt.figure(figsize=(8, 8))\n",
        "plt.pie(fulfillment_effectiveness['Number of Orders'], labels=fulfillment_effectiveness.index, autopct='%1.1f%%', startangle=140)\n",
        "plt.title('Distribution of Orders by Fulfillment Method')\n",
        "plt.show()"
      ],
      "metadata": {
        "colab": {
          "base_uri": "https://localhost:8080/",
          "height": 675
        },
        "id": "T2DdJYmCEZiz",
        "outputId": "6ff14139-8692-4b2e-f857-989df58fad8d"
      },
      "execution_count": 25,
      "outputs": [
        {
          "output_type": "display_data",
          "data": {
            "text/plain": [
              "<Figure size 800x800 with 1 Axes>"
            ],
            "image/png": "[encoded data removed]"
          },
          "metadata": {}
        }
      ]
    },
    {
      "cell_type": "code",
      "source": [
        "# Aggregate the number of orders by fulfillment method and shipping service level\n",
        "fulfillment_shipping_preference = df.groupby( 'ship-service-level').size().reset_index(name='Number of Orders')\n",
        "\n",
        "# Display the fulfillment and shipping preference\n",
        "print(fulfillment_shipping_preference)"
      ],
      "metadata": {
        "colab": {
          "base_uri": "https://localhost:8080/"
        },
        "id": "kKMkWDRM-XDM",
        "outputId": "3672849f-1941-4225-90ce-2cd26a408455"
      },
      "execution_count": 26,
      "outputs": [
        {
          "output_type": "stream",
          "name": "stdout",
          "text": [
            "  ship-service-level  Number of Orders\n",
            "0          Expedited             82713\n",
            "1           Standard             38430\n"
          ]
        }
      ]
    },
    {
      "cell_type": "code",
      "source": [
        "plt.figure(figsize=(10, 6))\n",
        "plt.bar(fulfillment_shipping_preference['ship-service-level'], fulfillment_shipping_preference['Number of Orders'], color='skyblue')\n",
        "plt.title('Number of Orders by Shipping Service Level')\n",
        "plt.xlabel('Shipping Service Level')\n",
        "plt.ylabel('Number of Orders')\n",
        "plt.xticks(rotation= 90)\n",
        "plt.tight_layout()\n",
        "plt.show()"
      ],
      "metadata": {
        "colab": {
          "base_uri": "https://localhost:8080/",
          "height": 607
        },
        "id": "5a7ZCNUIE2aI",
        "outputId": "948bbff4-be67-4292-c88f-f1e13aa68a63"
      },
      "execution_count": 27,
      "outputs": [
        {
          "output_type": "display_data",
          "data": {
            "text/plain": [
              "<Figure size 1000x600 with 1 Axes>"
            ],
            "image/png": "[encoded data removed]"
          },
          "metadata": {}
        }
      ]
    },
    {
      "cell_type": "markdown",
      "source": [
        "### Customer Segmentation"
      ],
      "metadata": {
        "id": "KX1TdyTxnLGH"
      }
    },
    {
      "cell_type": "code",
      "source": [
        "# Segment customers based on buying behavior\n",
        "customer_segmentation = df.groupby('ship-city').agg({'Amount': ['sum', 'mean', 'count']})\n",
        "customer_segmentation.columns = ['Total Sales', 'Average Sales per Order', 'Number of Orders']\n",
        "\n",
        "# Display customer segmentation\n",
        "print(customer_segmentation.head())\n"
      ],
      "metadata": {
        "colab": {
          "base_uri": "https://localhost:8080/"
        },
        "id": "R2yyc6hBoDsg",
        "outputId": "22221d01-ef12-4e47-c3c4-6119c73b4b4b"
      },
      "execution_count": 28,
      "outputs": [
        {
          "output_type": "stream",
          "name": "stdout",
          "text": [
            "                                                Total Sales  \\\n",
            "ship-city                                                     \n",
            "(Chikmagalur disterict).     (N.R pur thaluku)        389.0   \n",
            "(Via Cuncolim)Quepem,South Goa                       1163.0   \n",
            ",HYDERABAD                                            563.0   \n",
            ",raibarely road faizabad (Ayodhya)                   1122.0   \n",
            "..katra                                               641.0   \n",
            "\n",
            "                                                Average Sales per Order  \\\n",
            "ship-city                                                                 \n",
            "(Chikmagalur disterict).     (N.R pur thaluku)                    389.0   \n",
            "(Via Cuncolim)Quepem,South Goa                                   1163.0   \n",
            ",HYDERABAD                                                        563.0   \n",
            ",raibarely road faizabad (Ayodhya)                               1122.0   \n",
            "..katra                                                           641.0   \n",
            "\n",
            "                                                Number of Orders  \n",
            "ship-city                                                         \n",
            "(Chikmagalur disterict).     (N.R pur thaluku)                 1  \n",
            "(Via Cuncolim)Quepem,South Goa                                 1  \n",
            ",HYDERABAD                                                     1  \n",
            ",raibarely road faizabad (Ayodhya)                             1  \n",
            "..katra                                                        1  \n"
          ]
        }
      ]
    },
    {
      "cell_type": "code",
      "source": [
        "# Plot total sales\n",
        "plt.plot()\n",
        "customer_segmentation['Total Sales'].sort_values(ascending=False).head(10).plot(kind='bar', color='skyblue')\n",
        "plt.title('Top Cities by Total Sales')\n",
        "plt.ylabel('Total Sales')\n",
        "plt.show()\n",
        "\n"
      ],
      "metadata": {
        "colab": {
          "base_uri": "https://localhost:8080/",
          "height": 544
        },
        "id": "TLoA73uCFhco",
        "outputId": "84e065cb-f2d9-4206-ddbb-fc77c557116e"
      },
      "execution_count": 29,
      "outputs": [
        {
          "output_type": "display_data",
          "data": {
            "text/plain": [
              "<Figure size 640x480 with 1 Axes>"
            ],
            "image/png": "[encoded data removed]"
          },
          "metadata": {}
        }
      ]
    },
    {
      "cell_type": "markdown",
      "source": [
        "### Geographical Analysis"
      ],
      "metadata": {
        "id": "0QYboXW3o6Ij"
      }
    },
    {
      "cell_type": "code",
      "source": [
        "# Explore the geographical distribution of sales\n",
        "geographical_distribution = df.groupby('ship-state').agg({'Amount': ['sum', 'mean', 'count']})\n",
        "geographical_distribution.columns = ['Total Sales', 'Average Sales per Order', 'Number of Orders']\n",
        "\n",
        "# Display geographical distribution\n",
        "print(geographical_distribution.head())\n"
      ],
      "metadata": {
        "colab": {
          "base_uri": "https://localhost:8080/"
        },
        "id": "R2MYLBjrohY9",
        "outputId": "8449435e-5f59-4454-a9af-c8d9c5261a00"
      },
      "execution_count": 30,
      "outputs": [
        {
          "output_type": "stream",
          "name": "stdout",
          "text": [
            "                   Total Sales  Average Sales per Order  Number of Orders\n",
            "ship-state                                                               \n",
            "ANDAMAN & NICOBAR    157424.62               650.514959               242\n",
            "ANDHRA PRADESH      3217859.86               636.947716              5052\n",
            "AR                      493.00               493.000000                 1\n",
            "ARUNACHAL PRADESH     95235.00               710.708955               134\n",
            "ASSAM               1018654.20               657.620529              1549\n"
          ]
        }
      ]
    },
    {
      "cell_type": "code",
      "source": [
        "# Plotting\n",
        "plt.figure(figsize=(12, 6))\n",
        "plt.bar(geographical_distribution.index, geographical_distribution['Total Sales'], color='skyblue')\n",
        "plt.title('Top Cities by Total Sales')\n",
        "plt.xlabel('City')\n",
        "plt.ylabel('Total Sales')\n",
        "plt.xticks(rotation=90)\n",
        "plt.grid(axis='y', linestyle='--', alpha=0.7)\n",
        "plt.tight_layout()\n",
        "plt.show()"
      ],
      "metadata": {
        "colab": {
          "base_uri": "https://localhost:8080/",
          "height": 607
        },
        "id": "1uAKE5inGi5m",
        "outputId": "9bd482ae-5d3f-431f-837b-24e7925968d4"
      },
      "execution_count": 31,
      "outputs": [
        {
          "output_type": "display_data",
          "data": {
            "text/plain": [
              "<Figure size 1200x600 with 1 Axes>"
            ],
            "image/png": "[encoded data removed]"
          },
          "metadata": {}
        }
      ]
    },
    {
      "cell_type": "code",
      "source": [
        "# Identifying regions with high sales performance\n",
        "high_sales_regions = geographical_distribution.sort_values(by='Total Sales', ascending=False)\n",
        "print(high_sales_regions.head())\n"
      ],
      "metadata": {
        "colab": {
          "base_uri": "https://localhost:8080/"
        },
        "id": "Y98qu-4erdyy",
        "outputId": "56dd8546-dbd0-4852-c5a7-4c4200dfcf47"
      },
      "execution_count": 32,
      "outputs": [
        {
          "output_type": "stream",
          "name": "stdout",
          "text": [
            "               Total Sales  Average Sales per Order  Number of Orders\n",
            "ship-state                                                           \n",
            "MAHARASHTRA    13340333.05               632.723063             21084\n",
            "KARNATAKA      10480694.22               639.456633             16390\n",
            "TELANGANA       6915018.08               650.152132             10636\n",
            "UTTAR PRADESH   6823947.08               685.410514              9956\n",
            "TAMIL NADU      6519182.30               602.902275             10813\n"
          ]
        }
      ]
    },
    {
      "cell_type": "markdown",
      "source": [
        "### Key Insights and Recommendations from Sales Data Analysis"
      ],
      "metadata": {
        "id": "7p7dBVGeBYce"
      }
    },
    {
      "cell_type": "markdown",
      "source": [
        "\n",
        "\n",
        "\n",
        "The analysis of the sales data revealed several important insights. Peak sales periods were identified during holidays and promotions, highlighting times of high customer activity. Monitoring the average sales per order showed changes in customer spending behavior, while analyzing order volumes revealed periods of high demand. Product analysis indicated that T-shirts, Shirts, and Trousers were the best-selling categories, and certain sizes were more popular, which can guide inventory management. Fulfillment analysis showed a comparison between Merchant and Amazon fulfillment methods, with standard shipping being the most preferred option. Customer segmentation identified high spenders and frequent buyers, who can be targeted with loyalty programs and discounts, respectively. Geographical analysis highlighted regions like Maharashtra as top-performing areas, suggesting a focus on these regions for marketing and distribution efforts.\n",
        "\n",
        "\n",
        "\n",
        "\n",
        "\n",
        "\n"
      ],
      "metadata": {
        "id": "oaga1eR4BIYN"
      }
    },
    {
      "cell_type": "code",
      "source": [],
      "metadata": {
        "id": "ZbvV1WrLBJFq"
      },
      "execution_count": 32,
      "outputs": []
    }
  ]
}